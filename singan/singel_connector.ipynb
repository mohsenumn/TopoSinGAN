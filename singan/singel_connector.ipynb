{
 "cells": [
  {
   "cell_type": "code",
   "execution_count": 2,
   "id": "concerned-assembly",
   "metadata": {
    "colab": {
     "base_uri": "https://localhost:8080/"
    },
    "executionInfo": {
     "elapsed": 14386,
     "status": "ok",
     "timestamp": 1693864328244,
     "user": {
      "displayName": "Mohsen Ahmadkhani",
      "userId": "04770070352422244103"
     },
     "user_tz": 300
    },
    "id": "concerned-assembly",
    "outputId": "a97dff07-f151-49f4-ca36-f2f244e9cbbd"
   },
   "outputs": [
    {
     "name": "stdout",
     "output_type": "stream",
     "text": [
      "Mounted at /content/drive\n"
     ]
    }
   ],
   "source": [
    "# Load the Drive helper and mount\n",
    "from google.colab import drive\n",
    "\n",
    "# This will prompt for authorization.\n",
    "drive.mount('/content/drive')\n",
    "\n"
   ]
  },
  {
   "cell_type": "code",
   "execution_count": 3,
   "id": "lesbian-treasury",
   "metadata": {
    "executionInfo": {
     "elapsed": 12,
     "status": "ok",
     "timestamp": 1693864328246,
     "user": {
      "displayName": "Mohsen Ahmadkhani",
      "userId": "04770070352422244103"
     },
     "user_tz": 300
    },
    "id": "lesbian-treasury"
   },
   "outputs": [],
   "source": [
    "import os\n",
    "dir = '/content/drive/MyDrive/SINGAN'\n",
    "os.chdir(dir)"
   ]
  },
  {
   "cell_type": "code",
   "execution_count": 4,
   "id": "Snt-UxLDUUjb",
   "metadata": {
    "executionInfo": {
     "elapsed": 8,
     "status": "ok",
     "timestamp": 1693864328246,
     "user": {
      "displayName": "Mohsen Ahmadkhani",
      "userId": "04770070352422244103"
     },
     "user_tz": 300
    },
    "id": "Snt-UxLDUUjb"
   },
   "outputs": [],
   "source": [
    "import torch\n",
    "import torch.nn as nn\n",
    "import torch.optim as optim\n",
    "\n",
    "class Discriminator(nn.Module):\n",
    "    def __init__(self):\n",
    "        super(Discriminator, self).__init__()\n",
    "        self.net = nn.Sequential(\n",
    "            nn.Conv2d(1, 64, kernel_size=3, stride=2, padding=1),\n",
    "            nn.LeakyReLU(0.2),\n",
    "            nn.Conv2d(64, 128, kernel_size=3, stride=2, padding=1),\n",
    "            nn.LeakyReLU(0.2),\n",
    "            nn.Flatten(),\n",
    "            nn.Linear(128 * 44 * 60, 1),  # Input is downsampled to 44 x 60\n",
    "            nn.Sigmoid()\n",
    "        )\n",
    "\n",
    "    def forward(self, x):\n",
    "        return self.net(x)\n",
    "\n",
    "class Generator(nn.Module):\n",
    "    def __init__(self, noise_dim):\n",
    "        super(Generator, self).__init__()\n",
    "        self.noise_dim = noise_dim\n",
    "        # Define your architecture here. For example, a simple autoencoder-like architecture.\n",
    "        self.encoder = nn.Sequential(\n",
    "            nn.Conv2d(1 + noise_dim, 32, kernel_size=3, stride=2, padding=1),\n",
    "            nn.ReLU(),\n",
    "            nn.Conv2d(32, 64, kernel_size=3, stride=2, padding=1),\n",
    "            nn.ReLU()\n",
    "        )\n",
    "        self.decoder = nn.Sequential(\n",
    "            nn.ConvTranspose2d(64, 32, kernel_size=3, stride=2, padding=1, output_padding=1),\n",
    "            nn.ReLU(),\n",
    "            nn.ConvTranspose2d(32, 1, kernel_size=3, stride=2, padding=1, output_padding=1),\n",
    "            nn.Sigmoid()  # Assuming masks have values between 0 and 1\n",
    "        )\n",
    "\n",
    "    def forward(self, x, noise):\n",
    "        x = torch.cat([x, noise], dim=1)  # Concatenating the noise along channel dimension\n",
    "        x = self.encoder(x)\n",
    "        x = self.decoder(x)\n",
    "        return x\n",
    "\n",
    "\n",
    "class Generator2(nn.Module):\n",
    "    def __init__(self):\n",
    "        super(Generator, self).__init__()\n",
    "        # Define your architecture here. For example, a simple autoencoder-like architecture.\n",
    "        self.encoder = nn.Sequential(\n",
    "            nn.Conv2d(1, 32, kernel_size=3, stride=2, padding=1),\n",
    "            nn.ReLU(),\n",
    "            nn.Conv2d(32, 64, kernel_size=3, stride=2, padding=1),\n",
    "            nn.ReLU()\n",
    "        )\n",
    "        self.decoder = nn.Sequential(\n",
    "            nn.ConvTranspose2d(64, 32, kernel_size=3, stride=2, padding=1, output_padding=1),\n",
    "            nn.ReLU(),\n",
    "            nn.ConvTranspose2d(32, 1, kernel_size=3, stride=2, padding=1, output_padding=1),\n",
    "            nn.Sigmoid()  # Assuming masks have values between 0 and 1\n",
    "        )\n",
    "\n",
    "    def forward(self, x):\n",
    "        x = self.encoder(x)\n",
    "        x = self.decoder(x)\n",
    "        return x\n",
    "\n",
    "class Scorer(nn.Module):\n",
    "    def __init__(self):\n",
    "        super(Scorer, self).__init__()\n",
    "        # Define your architecture here\n",
    "        self.features = nn.Sequential(\n",
    "            nn.Conv2d(1, 32, kernel_size=3, padding=1),\n",
    "            nn.ReLU(),\n",
    "            nn.Conv2d(32, 64, kernel_size=3, padding=1),\n",
    "            nn.ReLU()\n",
    "        )\n",
    "        self.fc = nn.Linear(64, 1)\n",
    "\n",
    "    def forward(self, x):\n",
    "        x = self.features(x)\n",
    "        x = torch.mean(x, dim=[2, 3])\n",
    "        x = self.fc(x)\n",
    "        return x\n",
    "\n",
    "import torch.nn as nn\n",
    "import torch.nn.functional as F\n",
    "import torch\n",
    "import matplotlib.pyplot as plt\n",
    "class TopologicalLoss(nn.Module):\n",
    "    def __init__(self):\n",
    "        super(TopologicalLoss, self).__init__()\n",
    "        self.kernel1 = torch.tensor([ [1, 1, 1],\n",
    "                                      [1, 0, 1],\n",
    "                                      [1, 1, 1]], dtype=torch.float32).unsqueeze(0).unsqueeze(0)\n",
    "\n",
    "        self.kernel01 = torch.tensor([[1, 1, 1],\n",
    "                                      [0, 0, 1],\n",
    "                                      [1, 1, 1]], dtype=torch.float32).unsqueeze(0).unsqueeze(0)\n",
    "        self.kernel02 = torch.tensor([[1, 1, 1],\n",
    "                                      [1, 0, 1],\n",
    "                                      [1, 0, 1]], dtype=torch.float32).unsqueeze(0).unsqueeze(0)\n",
    "        self.kernel03 = torch.tensor([[1, 1, 1],\n",
    "                                      [1, 0, 0],\n",
    "                                      [1, 1, 1]], dtype=torch.float32).unsqueeze(0).unsqueeze(0)\n",
    "        self.kernel04 = torch.tensor([[1, 0, 1],\n",
    "                                      [1, 0, 1],\n",
    "                                      [1, 1, 1]], dtype=torch.float32).unsqueeze(0).unsqueeze(0)\n",
    "        self.kernel05 = torch.tensor([[0, 1, 1],\n",
    "                                      [1, 0, 1],\n",
    "                                      [1, 1, 1]], dtype=torch.float32).unsqueeze(0).unsqueeze(0)\n",
    "        self.kernel06 = torch.tensor([[1, 1, 1],\n",
    "                                      [1, 0, 1],\n",
    "                                      [0, 1, 1]], dtype=torch.float32).unsqueeze(0).unsqueeze(0)\n",
    "        self.kernel07 = torch.tensor([[1, 1, 1],\n",
    "                                      [1, 0, 1],\n",
    "                                      [1, 1, 0]], dtype=torch.float32).unsqueeze(0).unsqueeze(0)\n",
    "        self.kernel08 = torch.tensor([[1, 1, 0],\n",
    "                                      [1, 0, 1],\n",
    "                                      [1, 1, 1]], dtype=torch.float32).unsqueeze(0).unsqueeze(0)\n",
    "\n",
    "\n",
    "        self.kernel20 = torch.tensor([[1, 1, 1, 1, 1],\n",
    "                                     [1, 0, 0, 0, 1],\n",
    "                                     [1, 0, 0, 0, 1],\n",
    "                                     [1, 0, 0, 0, 1],\n",
    "                                     [1, 1, 1, 1, 1]], dtype=torch.float32).unsqueeze(0).unsqueeze(0)\n",
    "        self.kernel21 = torch.tensor([[0, 0, 0, 1, 1],\n",
    "                                      [0, 0, 0, 0, 1],\n",
    "                                      [0, 0, 0, 0, 1],\n",
    "                                      [1, 0, 0, 0, 1],\n",
    "                                     [ 1, 1, 1, 1, 1]], dtype=torch.float32).unsqueeze(0).unsqueeze(0)\n",
    "        self.kernel22 = torch.tensor([[1, 1, 0, 0, 0],\n",
    "                                     [1, 0, 0, 0, 0],\n",
    "                                     [1, 0, 0, 0, 0],\n",
    "                                     [1, 0, 0, 0, 1],\n",
    "                                     [1, 1, 1, 1, 1]], dtype=torch.float32).unsqueeze(0).unsqueeze(0)\n",
    "        self.kernel23 = torch.tensor([[1, 1, 1, 1, 1],\n",
    "                                     [1, 0, 0, 0, 1],\n",
    "                                     [1, 0, 0, 0, 0],\n",
    "                                     [1, 0, 0, 0, 0],\n",
    "                                     [1, 1, 0, 0, 0]], dtype=torch.float32).unsqueeze(0).unsqueeze(0)\n",
    "        self.kernel24 = torch.tensor([[1, 1, 1, 1, 1],\n",
    "                                     [1, 0, 0, 0, 1],\n",
    "                                     [0, 0, 0, 0, 1],\n",
    "                                     [0, 0, 0, 0, 1],\n",
    "                                     [0, 0, 0, 1, 1]], dtype=torch.float32).unsqueeze(0).unsqueeze(0)\n",
    "        self.kernel3 = torch.Tensor(  [[0, 0, 1, 1],\n",
    "                       [0, 0, 0, 1],\n",
    "                       [1, 0, 0, 1],\n",
    "                       [1, 1, 1, 1]]).view(1,1,4,4)\n",
    "\n",
    "        self.kernel4 = torch.Tensor(  [[1, 1, 0, 0],\n",
    "                              [1, 0, 0, 0],\n",
    "                              [1, 0, 0, 1],\n",
    "                              [1, 1, 1, 1]]).view(1,1,4,4)\n",
    "\n",
    "        self.kernel5 = torch.Tensor(  [[1, 1, 1, 1],\n",
    "                              [1, 0, 0, 1],\n",
    "                              [0, 0, 0, 1],\n",
    "                              [0, 0, 1, 1]]).view(1,1,4,4)\n",
    "\n",
    "        self.kernel6 = torch.Tensor(  [[1, 1, 1, 1],\n",
    "                              [1, 0, 0, 1],\n",
    "                              [1, 0, 0, 0],\n",
    "                              [1, 1, 0, 0]]).view(1,1,4,4)\n",
    "\n",
    "        self.kernel7 = torch.Tensor(  [[1, 0, 0, 1],\n",
    "                              [1, 0, 0, 1],\n",
    "                              [1, 0, 0, 1],\n",
    "                              [1, 1, 1, 1]]).view(1,1,4,4)\n",
    "\n",
    "        self.kernel8 = torch.Tensor(  [[1, 1, 1, 1],\n",
    "                              [0, 0, 0, 1],\n",
    "                              [0, 0, 0, 1],\n",
    "                              [1, 1, 1, 1]]).view(1,1,4,4)\n",
    "\n",
    "        self.kernel9 = torch.Tensor(  [[1, 1, 1, 1],\n",
    "                              [1, 0, 0, 1],\n",
    "                              [1, 0, 0, 1],\n",
    "                              [1, 0, 0, 1]]).view(1,1,4,4)\n",
    "\n",
    "        self.kernel10 = torch.Tensor(  [[1, 1, 1, 1],\n",
    "                              [1, 0, 0, 0],\n",
    "                              [1, 0, 0, 0],\n",
    "                              [1, 1, 1, 1]]).view(1,1,4,4)\n",
    "        self.kernels = [self.kernel01, self.kernel02, self.kernel03, self.kernel04, self.kernel05, self.kernel06, self.kernel07, self.kernel08, self.kernel1, self.kernel20, self.kernel21, self.kernel22, self.kernel23, self.kernel24, self.kernel3, self.kernel4,self.kernel5, self.kernel6, self.kernel7,self.kernel8, self.kernel9, self.kernel10]\n",
    "\n",
    "    def soft_threshold(self, x, threshold, alpha=10.0):\n",
    "        return torch.sigmoid(alpha * (-x + threshold))\n",
    "\n",
    "    def endpoints(self, mask, kernel, padded=True):\n",
    "        kernel_size = kernel.shape[-1]\n",
    "        pad = 2\n",
    "        if kernel_size == 3:\n",
    "            pad = 1\n",
    "        elif kernel_size == 5:\n",
    "            pad = 2\n",
    "        neighbors_count = F.conv2d(mask, kernel, padding=pad)\n",
    "        if kernel_size == 4:\n",
    "          line_ends = self.soft_threshold(neighbors_count[:,:,:-1, :-1], 1.0) * mask\n",
    "        else:\n",
    "          line_ends = self.soft_threshold(neighbors_count, 1.0) * mask\n",
    "        if padded:\n",
    "          line_ends = line_ends[:, :, 1:-1, 1:-1]\n",
    "        return line_ends\n",
    "\n",
    "    def forward(self, mask):\n",
    "        epss = torch.zeros_like(mask)\n",
    "        i=1\n",
    "        for kernel in self.kernels:\n",
    "#           if i in [2,3,4,5,6,7,8,9]:\n",
    "            if mask.is_cuda:\n",
    "                kernel = kernel.cuda()\n",
    "            padding = (1, 1, 1, 1)\n",
    "            padded_mask = F.pad(mask[0], padding, 'constant', 1)\n",
    "            eps = self.endpoints(padded_mask.unsqueeze(0), kernel = kernel, padded=True)\n",
    "            epss += eps\n",
    "#           i+=1\n",
    "        loss = (epss[0]/8).sum()\n",
    "        return loss\n",
    "\n",
    "\n",
    "class CustSigmoid(nn.Module):\n",
    "    def __init__(self, alpha=55, beta=0.5):\n",
    "        super(CustSigmoid, self).__init__()\n",
    "        self.alpha = alpha\n",
    "        self.beta = beta\n",
    "    def forward(self, x):\n",
    "        return 1 / (1 + torch.exp(-self.alpha * (x + self.beta)))\n",
    "import torch\n",
    "import torch.nn.functional as F\n",
    "import torch.nn as nn\n",
    "\n",
    "class HistogramLoss(nn.Module):\n",
    "    def __init__(self, num_bins=50, min_val=None, max_val=None):\n",
    "        super(HistogramLoss, self).__init__()\n",
    "        self.num_bins = num_bins\n",
    "        self.min_val = min_val\n",
    "        self.max_val = max_val\n",
    "\n",
    "    def forward(self, input_img, target_img):\n",
    "        min_val = self.min_val\n",
    "        max_val = self.max_val\n",
    "        if min_val is None:\n",
    "            min_val = torch.min(input_img).item()\n",
    "        if max_val is None:\n",
    "            max_val = torch.max(input_img).item()\n",
    "        bin_edges = torch.linspace(min_val, max_val, self.num_bins + 1).to(device)\n",
    "        bin_centers = (bin_edges[:-1].clone().to(device) + bin_edges[1:].clone().to(device)) / 2\n",
    "\n",
    "        def compute_histogram(image):\n",
    "            exp_terms = (bin_centers.view(1, -1) - image.view(-1, 1)) ** 2\n",
    "            exp_terms *= -0.5\n",
    "            hist_values = torch.exp(exp_terms)\n",
    "            histogram = torch.sum(hist_values, dim=0)\n",
    "            return histogram\n",
    "        input_hist = compute_histogram(input_img)\n",
    "        target_hist = compute_histogram(target_img)\n",
    "#         loss = torch.sum((input_hist - target_hist) ** 2)\n",
    "        loss = torch.nn.MSELoss()(input_hist,target_hist)\n",
    "        return torch.sqrt(loss)\n",
    "\n"
   ]
  },
  {
   "cell_type": "code",
   "execution_count": 7,
   "id": "OCdiScRfUKH3",
   "metadata": {
    "colab": {
     "base_uri": "https://localhost:8080/"
    },
    "executionInfo": {
     "elapsed": 18163,
     "status": "ok",
     "timestamp": 1693864470676,
     "user": {
      "displayName": "Mohsen Ahmadkhani",
      "userId": "04770070352422244103"
     },
     "user_tz": 300
    },
    "id": "OCdiScRfUKH3",
    "outputId": "d0e49c33-da55-468a-87bd-8c772e3a0cad"
   },
   "outputs": [
    {
     "name": "stdout",
     "output_type": "stream",
     "text": [
      "Iteration 0, g_loss: 0.7800515294075012, Scorer Loss: 2.7818236048915423e-05 hist:  tensor(5540.0923, device='cuda:0', grad_fn=<SqrtBackward0>)\n",
      "Iteration 100, g_loss: 1.3712555170059204, Scorer Loss: 4875.4716796875 hist:  tensor(2150.2122, device='cuda:0', grad_fn=<SqrtBackward0>)\n",
      "Iteration 200, g_loss: 2.574354410171509, Scorer Loss: 8201.322265625 hist:  tensor(496.2286, device='cuda:0', grad_fn=<SqrtBackward0>)\n",
      "Iteration 300, g_loss: 3.083388090133667, Scorer Loss: 8232.0146484375 hist:  tensor(379.9215, device='cuda:0', grad_fn=<SqrtBackward0>)\n",
      "Iteration 400, g_loss: 3.2883522510528564, Scorer Loss: 8232.0146484375 hist:  tensor(368.9631, device='cuda:0', grad_fn=<SqrtBackward0>)\n",
      "Iteration 500, g_loss: 3.379183769226074, Scorer Loss: 8232.0146484375 hist:  tensor(365.0773, device='cuda:0', grad_fn=<SqrtBackward0>)\n",
      "Iteration 600, g_loss: 3.4150304794311523, Scorer Loss: 8232.0146484375 hist:  tensor(363.2212, device='cuda:0', grad_fn=<SqrtBackward0>)\n",
      "Iteration 700, g_loss: 3.4320311546325684, Scorer Loss: 8232.0146484375 hist:  tensor(362.1931, device='cuda:0', grad_fn=<SqrtBackward0>)\n",
      "Iteration 800, g_loss: 3.435873508453369, Scorer Loss: 8232.0146484375 hist:  tensor(361.5430, device='cuda:0', grad_fn=<SqrtBackward0>)\n",
      "Iteration 900, g_loss: 3.4295051097869873, Scorer Loss: 8232.0146484375 hist:  tensor(361.1094, device='cuda:0', grad_fn=<SqrtBackward0>)\n",
      "Iteration 1000, g_loss: 3.416017770767212, Scorer Loss: 8232.0146484375 hist:  tensor(360.8051, device='cuda:0', grad_fn=<SqrtBackward0>)\n",
      "Iteration 1100, g_loss: 3.398073673248291, Scorer Loss: 8232.0146484375 hist:  tensor(360.5814, device='cuda:0', grad_fn=<SqrtBackward0>)\n",
      "Iteration 1200, g_loss: 3.377451181411743, Scorer Loss: 8232.0146484375 hist:  tensor(360.4112, device='cuda:0', grad_fn=<SqrtBackward0>)\n",
      "Iteration 1300, g_loss: 3.354809522628784, Scorer Loss: 8232.0146484375 hist:  tensor(360.2765, device='cuda:0', grad_fn=<SqrtBackward0>)\n",
      "Iteration 1400, g_loss: 3.330594062805176, Scorer Loss: 8232.0146484375 hist:  tensor(360.1656, device='cuda:0', grad_fn=<SqrtBackward0>)\n",
      "Iteration 1500, g_loss: 3.3030223846435547, Scorer Loss: 8232.0146484375 hist:  tensor(360.0443, device='cuda:0', grad_fn=<SqrtBackward0>)\n",
      "Iteration 1600, g_loss: 3.2573087215423584, Scorer Loss: 8235.9541015625 hist:  tensor(358.2814, device='cuda:0', grad_fn=<SqrtBackward0>)\n",
      "Iteration 1700, g_loss: 3.284058094024658, Scorer Loss: 8248.1376953125 hist:  tensor(352.2246, device='cuda:0', grad_fn=<SqrtBackward0>)\n",
      "Iteration 1800, g_loss: 3.277402877807617, Scorer Loss: 8248.1376953125 hist:  tensor(351.3024, device='cuda:0', grad_fn=<SqrtBackward0>)\n",
      "Iteration 1900, g_loss: 3.250753402709961, Scorer Loss: 8248.1376953125 hist:  tensor(351.0161, device='cuda:0', grad_fn=<SqrtBackward0>)\n"
     ]
    }
   ],
   "source": [
    "\n",
    "import torch\n",
    "import torch.nn as nn\n",
    "import numpy as np\n",
    "import torch.nn.functional as F\n",
    "import torch.optim as optim\n",
    "from skimage.io import imshow, imread, imsave\n",
    "# from models import Generator, TopologicalLoss, CustSigmoid, Discriminator\n",
    "\n",
    "device = torch.device(\"cuda\" if torch.cuda.is_available() else \"cpu\")\n",
    "histogram_loss = HistogramLoss().to(device)\n",
    "sig = CustSigmoid().to(device)\n",
    "scorer = TopologicalLoss().to(device)\n",
    "# Loss = nn.BCEWithLogitsLoss()\n",
    "Loss = nn.BCELoss().to(device)\n",
    "# Loss = nn.MSELoss()\n",
    "noise_dim = 10\n",
    "generator = Generator(noise_dim=noise_dim).to(device)\n",
    "optimizer_g = optim.Adam(generator.parameters(), lr=0.0001)\n",
    "sig2 = CustSigmoid(55, -0.5).to(device)\n",
    "def train(input_mask, latent_noise, alpha=1, beta=10):\n",
    "    num_iterations = 2000\n",
    "    for epoch in range(num_iterations):\n",
    "        enhanced_mask = generator(input_mask, latent_noise)\n",
    "        g_loss = Loss(enhanced_mask[:, :, :-1, :], input_mask)\n",
    "        hist_loss = histogram_loss(enhanced_mask, input_mask)\n",
    "\n",
    "        # if epoch == 10000:\n",
    "        #     combined_loss.detach()\n",
    "        # if epoch > 0:\n",
    "        scorer_loss = scorer(sig2(enhanced_mask.to(device)))\n",
    "        # else:\n",
    "        #     scorer_loss=torch.tensor(0)\n",
    "#         combined_loss = beta*scorer_loss + hist_loss\n",
    "        combined_loss = 18*hist_loss + 100*g_loss #+ 2*scorer_loss\n",
    "        optimizer_g.zero_grad()\n",
    "        combined_loss.backward(retain_graph=True)\n",
    "        optimizer_g.step()\n",
    "#         combined_loss.detach()\n",
    "        if epoch % 100 == 0:\n",
    "            print(f\"Iteration {epoch}, g_loss: {g_loss.item()}, Scorer Loss: {scorer_loss.item()}\", 'hist: ', hist_loss)\n",
    "\n",
    "    final_enhanced_mask = generator(input_mask, latent_noise)\n",
    "    return final_enhanced_mask\n",
    "\n",
    "input_mask = torch.load('fake_xx_8_old.pth').to(device)\n",
    "input_mask = sig(input_mask)\n",
    "\n",
    "latent_noise = torch.randn(1, noise_dim, input_mask.size()[2], input_mask.size()[3]).to(device)\n",
    "enhanced_mask = train(input_mask, latent_noise)\n",
    "\n"
   ]
  },
  {
   "cell_type": "code",
   "execution_count": 8,
   "id": "n9LVXuT8MG-1",
   "metadata": {
    "colab": {
     "base_uri": "https://localhost:8080/",
     "height": 503
    },
    "executionInfo": {
     "elapsed": 344,
     "status": "ok",
     "timestamp": 1693864472646,
     "user": {
      "displayName": "Mohsen Ahmadkhani",
      "userId": "04770070352422244103"
     },
     "user_tz": 300
    },
    "id": "n9LVXuT8MG-1",
    "outputId": "c331b038-b5cc-4417-c68f-bc9c773a3f04"
   },
   "outputs": [
    {
     "data": {
      "text/plain": [
       "<matplotlib.image.AxesImage at 0x7b94f66a8220>"
      ]
     },
     "execution_count": 8,
     "metadata": {},
     "output_type": "execute_result"
    },
    {
     "data": {
      "image/png": "[encoded data removed]",
      "text/plain": [
       "<Figure size 640x480 with 1 Axes>"
      ]
     },
     "metadata": {},
     "output_type": "display_data"
    }
   ],
   "source": [
    "imshow(enhanced_mask[0][0].detach().cpu().numpy())"
   ]
  },
  {
   "cell_type": "code",
   "execution_count": 6,
   "id": "GBqPaQYUU--N",
   "metadata": {
    "colab": {
     "base_uri": "https://localhost:8080/",
     "height": 503
    },
    "executionInfo": {
     "elapsed": 166,
     "status": "ok",
     "timestamp": 1693864376306,
     "user": {
      "displayName": "Mohsen Ahmadkhani",
      "userId": "04770070352422244103"
     },
     "user_tz": 300
    },
    "id": "GBqPaQYUU--N",
    "outputId": "810b65a5-31df-4e70-e8ab-0b760db3bc35"
   },
   "outputs": [
    {
     "data": {
      "text/plain": [
       "<matplotlib.image.AxesImage at 0x7b95dcfbb220>"
      ]
     },
     "execution_count": 6,
     "metadata": {},
     "output_type": "execute_result"
    },
    {
     "data": {
      "image/png": "[encoded data removed]",
      "text/plain": [
       "<Figure size 640x480 with 1 Axes>"
      ]
     },
     "metadata": {},
     "output_type": "display_data"
    }
   ],
   "source": [
    "imshow(enhanced_mask[0][0].detach().cpu().numpy())\n"
   ]
  },
  {
   "cell_type": "code",
   "execution_count": null,
   "id": "IrlzKVqzWiGw",
   "metadata": {
    "id": "IrlzKVqzWiGw"
   },
   "outputs": [],
   "source": []
  }
 ],
 "metadata": {
  "accelerator": "GPU",
  "colab": {
   "gpuType": "T4",
   "machine_shape": "hm",
   "provenance": []
  },
  "kernelspec": {
   "display_name": "Python 3 (ipykernel)",
   "language": "python",
   "name": "python3"
  },
  "language_info": {
   "codemirror_mode": {
    "name": "ipython",
    "version": 3
   },
   "file_extension": ".py",
   "mimetype": "text/x-python",
   "name": "python",
   "nbconvert_exporter": "python",
   "pygments_lexer": "ipython3",
   "version": "3.12.2"
  }
 },
 "nbformat": 4,
 "nbformat_minor": 5
}
