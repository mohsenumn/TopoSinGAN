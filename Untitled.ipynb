{
 "cells": [
  {
   "cell_type": "code",
   "execution_count": null,
   "id": "1c179885-f40b-456b-9e95-f142f61b2f9e",
   "metadata": {},
   "outputs": [],
   "source": [
    "dendro_skel_double\n"
   ]
  },
  {
   "cell_type": "code",
   "execution_count": 1,
   "id": "3a2e1107-fd48-46f2-882f-5c53c7e5fc78",
   "metadata": {},
   "outputs": [
    {
     "ename": "SyntaxError",
     "evalue": "invalid syntax (1089064707.py, line 1)",
     "output_type": "error",
     "traceback": [
      "\u001b[0;36m  Cell \u001b[0;32mIn[1], line 1\u001b[0;36m\u001b[0m\n\u001b[0;31m    python -u /home/jacks.local/mohsen.ahmadkhani/imageprocessing/singan/singan/main_train.py --input_name dendro_skel_double.png  --nc_z 4 --nc_im 4 --gpu_id 0\u001b[0m\n\u001b[0m                                                                                                           ^\u001b[0m\n\u001b[0;31mSyntaxError\u001b[0m\u001b[0;31m:\u001b[0m invalid syntax\n"
     ]
    }
   ],
   "source": [
    "!python -u /home/jacks.local/mohsen.ahmadkhani/imageprocessing/singan/singan/main_train.py --input_name dendro_skel_double.png  --nc_z 4 --nc_im 4 --gpu_id 0\n"
   ]
  },
  {
   "cell_type": "code",
   "execution_count": 4,
   "id": "c28bfcef-c918-4e57-9170-7e5fdf707382",
   "metadata": {},
   "outputs": [
    {
     "name": "stdout",
     "output_type": "stream",
     "text": [
      "^C\n",
      "CPU times: user 2.64 s, sys: 403 ms, total: 3.04 s\n",
      "Wall time: 6min 41s\n"
     ]
    }
   ],
   "source": [
    "%%time\n",
    "!python -u /home/jacks.local/mohsen.ahmadkhani/imageprocessing/singan/singan/main_train.py --input_name dendro_skel_double.png  --nc_z 4 --nc_im 4 --gpu_id 0 > topo_output_double.log 2>&1\n"
   ]
  },
  {
   "cell_type": "code",
   "execution_count": 2,
   "id": "c963513f-7e5d-4cb8-aa8a-7616f5beb744",
   "metadata": {},
   "outputs": [
    {
     "name": "stdout",
     "output_type": "stream",
     "text": [
      "CPU times: user 14.4 s, sys: 1.68 s, total: 16 s\n",
      "Wall time: 42min 50s\n"
     ]
    }
   ],
   "source": [
    "%%time\n",
    "!(/usr/bin/time -p python -u /home/jacks.local/mohsen.ahmadkhani/imageprocessing/singan/singan/main_train.py --input_name dendro_skel_double.png  --nc_z 4 --nc_im 4 --gpu_id 0) &> topo_output_double.log\n"
   ]
  },
  {
   "cell_type": "code",
   "execution_count": 1,
   "id": "7ac16fb9-44b4-4e27-80be-1482263a52d6",
   "metadata": {},
   "outputs": [
    {
     "data": {
      "text/plain": [
       "'/mmfs1/home/jacks.local/mohsen.ahmadkhani/imageprocessing/singan'"
      ]
     },
     "execution_count": 1,
     "metadata": {},
     "output_type": "execute_result"
    }
   ],
   "source": [
    "pwd"
   ]
  },
  {
   "cell_type": "code",
   "execution_count": null,
   "id": "69ab0d75-ec55-48fb-bc0c-0cdc172bc333",
   "metadata": {},
   "outputs": [],
   "source": []
  }
 ],
 "metadata": {
  "kernelspec": {
   "display_name": "Python [conda env:torch2.2]",
   "language": "python",
   "name": "conda-env-torch2.2-py"
  },
  "language_info": {
   "codemirror_mode": {
    "name": "ipython",
    "version": 3
   },
   "file_extension": ".py",
   "mimetype": "text/x-python",
   "name": "python",
   "nbconvert_exporter": "python",
   "pygments_lexer": "ipython3",
   "version": "3.12.2"
  }
 },
 "nbformat": 4,
 "nbformat_minor": 5
}
